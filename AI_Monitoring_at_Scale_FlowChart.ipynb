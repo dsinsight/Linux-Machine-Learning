{
  "nbformat": 4,
  "nbformat_minor": 0,
  "metadata": {
    "colab": {
      "provenance": [],
      "authorship_tag": "ABX9TyNsBD5d/qIR/t3gjvYHMxXC",
      "include_colab_link": true
    },
    "kernelspec": {
      "name": "python3",
      "display_name": "Python 3"
    },
    "language_info": {
      "name": "python"
    }
  },
  "cells": [
    {
      "cell_type": "markdown",
      "metadata": {
        "id": "view-in-github",
        "colab_type": "text"
      },
      "source": [
        "<a href=\"https://colab.research.google.com/github/dsinsight/Linux-Machine-Learning/blob/main/AI_Monitoring_at_Scale_FlowChart.ipynb\" target=\"_parent\"><img src=\"https://colab.research.google.com/assets/colab-badge.svg\" alt=\"Open In Colab\"/></a>"
      ]
    },
    {
      "cell_type": "code",
      "execution_count": null,
      "metadata": {
        "colab": {
          "base_uri": "https://localhost:8080/"
        },
        "id": "drWC71jl-REC",
        "outputId": "6a1d2af6-ab7e-42f7-b3c7-45445f43f029"
      },
      "outputs": [
        {
          "output_type": "stream",
          "name": "stdout",
          "text": [
            "Requirement already satisfied: graphviz in /usr/local/lib/python3.10/dist-packages (0.20.3)\n"
          ]
        }
      ],
      "source": [
        "!pip install graphviz"
      ]
    },
    {
      "cell_type": "code",
      "source": [
        "from graphviz import Digraph\n",
        "\n",
        "# Create a new directed graph\n",
        "dot = Digraph(comment='Monitoring AI at Scale')\n",
        "\n",
        "# Set the graph attributes\n",
        "dot.attr(rankdir='LR', size='20,10')\n",
        "\n",
        "# Level 1: Data, Model, Infrastructure\n",
        "dot.attr('node', shape='box', style='filled', color='lightblue')\n",
        "\n",
        "# Data\n",
        "dot.node('Data', 'Data Layer')\n",
        "dot.node('GE', 'Great Expectations\\n(Quality Checks)')\n",
        "dot.node('DR', 'DataRobot\\n(Data Preprocessing & Monitoring)')\n",
        "dot.node('AA', 'Apache Airflow\\n(Data Pipelines)')\n",
        "\n",
        "# Model\n",
        "dot.node('Model', 'Model Layer')\n",
        "dot.node('MLF', 'MLflow\\n(Experiment Tracking)')\n",
        "dot.node('WB', 'Weights & Biases\\n(Model Tracking)')\n",
        "dot.node('NEP', 'Neptune.ai\\n(Metadata Store)')\n",
        "\n",
        "# Infrastructure\n",
        "dot.node('Infra', 'Infrastructure Layer')\n",
        "dot.node('K8S', 'Kubernetes\\n(Orchestration & Monitoring)')\n",
        "dot.node('Prom', 'Prometheus\\n(Metrics Collection)')\n",
        "dot.node('Graf', 'Grafana\\n(Metrics Visualization)')\n",
        "\n",
        "# Edges for Level 1\n",
        "dot.edge('Data', 'GE', 'Ensures Data Quality')\n",
        "dot.edge('Data', 'DR', 'Data Preprocessing')\n",
        "dot.edge('Data', 'AA', 'Orchestrates Pipelines')\n",
        "\n",
        "dot.edge('Model', 'MLF', 'Tracks Experiments')\n",
        "dot.edge('Model', 'WB', 'Tracks Model Performance')\n",
        "dot.edge('Model', 'NEP', 'Stores Model Metadata')\n",
        "\n",
        "dot.edge('Infra', 'K8S', 'Manages Containers')\n",
        "dot.edge('Infra', 'Prom', 'Collects Metrics')\n",
        "dot.edge('Infra', 'Graf', 'Visualizes Metrics')\n",
        "\n",
        "# Level 2: Observability Stack\n",
        "dot.attr('node', shape='ellipse', style='filled', color='lightyellow')\n",
        "\n",
        "# Logging Tools\n",
        "dot.node('Logs', 'Logging Layer')\n",
        "dot.node('ELK', 'ELK Stack\\n(Logs Aggregation)')\n",
        "dot.node('Fluentd', 'Fluentd\\n(Logs Aggregation)')\n",
        "\n",
        "# Performance & Metrics Tools\n",
        "dot.node('Observ', 'Observability Stack')\n",
        "dot.node('Jaeger', 'Jaeger\\n(Distributed Tracing)')\n",
        "dot.node('Sentry', 'Sentry\\n(Error Tracking)')\n",
        "dot.node('OTel', 'OpenTelemetry\\n(Observability Metrics)')\n",
        "dot.node('AM', 'Alertmanager\\n(Alerting)')\n",
        "\n",
        "# Connect Observability stack\n",
        "dot.edge('Infra', 'Observ', 'Infrastructure Monitoring')\n",
        "dot.edge('Model', 'Observ', 'Model Performance Monitoring')\n",
        "dot.edge('Data', 'Observ', 'Data Pipeline Monitoring')\n",
        "\n",
        "# Observability connections\n",
        "dot.edge('Observ', 'Prom', 'Provides Metrics')\n",
        "dot.edge('Observ', 'Graf', 'Visualizes Performance Data')\n",
        "dot.edge('Observ', 'ELK', 'Provides Logs')\n",
        "dot.edge('Observ', 'Fluentd', 'Provides Logs')\n",
        "dot.edge('Observ', 'Jaeger', 'Provides Tracing Data')\n",
        "dot.edge('Observ', 'Sentry', 'Provides Error Tracking')\n",
        "dot.edge('Observ', 'OTel', 'Provides Performance Metrics')\n",
        "dot.edge('Observ', 'AM', 'Provides Alerts')\n",
        "\n",
        "# Relationships between layers\n",
        "dot.edge('K8S', 'Prom', 'Monitors Infrastructure')\n",
        "dot.edge('Prom', 'Graf', 'Provides Metrics Visualization')\n",
        "dot.edge('MLF', 'WB', 'Integrates with Tracking')\n",
        "dot.edge('ELK', 'Fluentd', 'Aggregates Logs')\n",
        "\n",
        "# Rendering the final diagram\n",
        "dot.render('ai_monitoring_flowchart', format='png')\n",
        "\n",
        "# Optionally, display in Jupyter notebook (if you're running in a Jupyter environment)\n",
        "dot.view()\n"
      ],
      "metadata": {
        "colab": {
          "base_uri": "https://localhost:8080/",
          "height": 35
        },
        "id": "PvDg6cZn2SNg",
        "outputId": "1fe13b90-1b0d-42aa-88b2-2863ddae8815"
      },
      "execution_count": 29,
      "outputs": [
        {
          "output_type": "execute_result",
          "data": {
            "text/plain": [
              "'ai_monitoring_flowchart.pdf'"
            ],
            "application/vnd.google.colaboratory.intrinsic+json": {
              "type": "string"
            }
          },
          "metadata": {},
          "execution_count": 29
        }
      ]
    }
  ]
}